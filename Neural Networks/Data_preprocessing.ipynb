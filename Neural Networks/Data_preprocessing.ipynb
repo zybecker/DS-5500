{
  "cells": [
    {
      "attachments": {},
      "cell_type": "markdown",
      "metadata": {},
      "source": [
        "This file preprocesses the downloaded Statcast 2024 data and prepares input and target tensors for use in the neural network models. To download the 2024 Statcast data, run Download2024Data.ipynb.<br>\n",
        "\n",
        "Last updated: 4/15/2025"
      ]
    },
    {
      "cell_type": "code",
      "execution_count": 2,
      "metadata": {
        "id": "p2omfKXCLIeJ"
      },
      "outputs": [],
      "source": [
        "import pandas as pd\n",
        "import numpy as np\n",
        "import matplotlib.pyplot as plt\n",
        "import seaborn as sns\n",
        "from sklearn.neighbors import KNeighborsRegressor\n",
        "from sklearn.preprocessing import StandardScaler\n",
        "from torch import save, tensor"
      ]
    },
    {
      "cell_type": "code",
      "execution_count": 3,
      "metadata": {
        "id": "slOCmaSCLIeK"
      },
      "outputs": [],
      "source": [
        "#pip freeze > requirements.txt"
      ]
    },
    {
      "attachments": {},
      "cell_type": "markdown",
      "metadata": {
        "id": "swDml5kHLIeL"
      },
      "source": [
        "# Data Preprocessing"
      ]
    },
    {
      "attachments": {},
      "cell_type": "markdown",
      "metadata": {
        "id": "Lc_VkT-qLIeL"
      },
      "source": [
        "## Load data\n",
        "Load the 2024 Statcast data and pitch clustering data from a CSV. Of course, make sure that you have the full 2024 data csv in your local directory."
      ]
    },
    {
      "cell_type": "code",
      "execution_count": 4,
      "metadata": {
        "id": "vU6sxC-KLIeL"
      },
      "outputs": [],
      "source": [
        "pitch_data = pd.read_csv('../2024pitches.csv')\n",
        "pitch_clusters = pd.read_csv(\"../pitch_clusters.csv\")"
      ]
    },
    {
      "cell_type": "code",
      "execution_count": 5,
      "metadata": {},
      "outputs": [],
      "source": [
        "target = 'estimated_woba_using_speedangle'\n",
        "grouping_variables = ['game_date', 'at_bat_number', 'home_team']\n",
        "features = ['release_speed', 'release_pos_x', 'release_pos_z', 'pfx_x', 'pfx_z', 'plate_x', 'plate_z', 'spin_axis',\n",
        "            'release_extension', 'estimated_woba_using_speedangle_zone_avg', 'estimated_woba_by_pitch_type', \n",
        "            'cluster_label', 'n_thruorder_pitcher', 'balls', 'strikes']"
      ]
    },
    {
      "attachments": {},
      "cell_type": "markdown",
      "metadata": {
        "id": "oLLFndsYLIeL"
      },
      "source": [
        "### Basic Filtering\n",
        "- Regular season games\n",
        "- Score difference < 6\n",
        "- Remove pitches with < 3 appearances"
      ]
    },
    {
      "cell_type": "code",
      "execution_count": 6,
      "metadata": {
        "id": "sn6UenajLIeL"
      },
      "outputs": [],
      "source": [
        "# Regular season games only\n",
        "pitch_data = pitch_data[pitch_data['game_type'] == 'R']\n",
        "\n",
        "# Score difference < 6\n",
        "pitch_data = pitch_data[abs(pitch_data['home_score_diff']) < 6]\n",
        "\n",
        "# Identify pitchers with < 3 appearances\n",
        "pitcher_appearances = pitch_data.groupby(['pitcher', 'game_date']).size()\n",
        "pitcher_games = pitcher_appearances.groupby('pitcher').size()\n",
        "pitchers_with_few_games = pitcher_games[pitcher_games < 3].index\n",
        "# Filter out those pitchers\n",
        "pitch_data = pitch_data[~pitch_data['pitcher'].isin(pitchers_with_few_games)]"
      ]
    },
    {
      "attachments": {},
      "cell_type": "markdown",
      "metadata": {},
      "source": [
        "### Pitch Clustering"
      ]
    },
    {
      "cell_type": "code",
      "execution_count": 7,
      "metadata": {
        "id": "ldLzGct3LIeM"
      },
      "outputs": [],
      "source": [
        "# Grab first set of columns of interest and filter\n",
        "columns = [\n",
        "    \"pitch_type\", \"release_speed\", \"release_pos_x\", \"release_pos_z\", \"batter\", \"pitcher\", \"events\", \"description\", \"zone\",\n",
        "    \"des\", \"game_type\", \"stand\", \"p_throws\", \"type\", \"balls\", \"strikes\", \"pfx_x\", \"pfx_z\", \"plate_x\", \"plate_z\", \"on_3b\",\n",
        "    \"on_2b\", \"on_1b\", \"hc_x\", \"hc_y\", \"sv_id\", \"vx0\", \"vy0\", \"vz0\", \"ax\", \"ay\", \"az\", \"sz_top\", \"sz_bot\", \"hit_distance_sc\",\n",
        "    \"launch_speed\", \"launch_angle\", \"effective_speed\", \"release_spin_rate\", \"release_extension\", \"game_pk\", \"release_pos_y\",\n",
        "    \"estimated_woba_using_speedangle\", \"launch_speed_angle\", \"at_bat_number\", \"pitch_number\", \"pitch_name\", \"home_score\",\n",
        "    \"away_score\", \"spin_axis\", \"delta_home_win_exp\", \"delta_run_exp\", \"bat_speed\", \"swing_length\",\n",
        "    \"estimated_slg_using_speedangle\", \"delta_pitcher_run_exp\", \"bat_win_exp\", \"n_thruorder_pitcher\",\n",
        "    \"n_priorpa_thisgame_player_at_bat\", \"arm_angle\",\n",
        "    'game_date', 'home_team']\n",
        "pitch_data = pitch_data[columns]\n",
        "\n",
        "# Reshape the cluster data to long format and merge with pitch data\n",
        "pitch_clusters_long = pitch_clusters.melt(id_vars=['pitcher'], var_name='pitch_type', value_name='cluster_label')\n",
        "pitch_clusters_long = pitch_clusters_long[pitch_clusters_long['cluster_label'] != -1]\n",
        "pitch_data = pitch_data.merge(pitch_clusters_long, on=['pitcher', 'pitch_type'], how='left')\n",
        "\n",
        "# Create zone features using the plate_x and plate_z features\n",
        "x_bins = np.linspace(-2, 2, num=5)  \n",
        "z_bins = np.linspace(0, 4, num=5)   \n",
        "pitch_data[\"zone_x\"] = np.digitize(pitch_data[\"plate_x\"], bins=x_bins, right=False)\n",
        "pitch_data[\"zone_z\"] = np.digitize(pitch_data[\"plate_z\"], bins=z_bins, right=False)\n",
        "pitch_data[\"zone\"] = pitch_data[\"zone_x\"].astype(str) + \"-\" + pitch_data[\"zone_z\"].astype(str)"
      ]
    },
    {
      "attachments": {},
      "cell_type": "markdown",
      "metadata": {},
      "source": [
        "#### K-Nearest Neighbors Implementation"
      ]
    },
    {
      "cell_type": "code",
      "execution_count": 8,
      "metadata": {},
      "outputs": [],
      "source": [
        "# We want to create hitter zone and pitch type success features using KNN\n",
        "pitch_data_bip = pitch_data[pitch_data[\"description\"] == \"hit_into_play\"].copy()\n",
        "features_knn = [\"launch_angle\", \"launch_speed\"]\n",
        "target_knn = \"estimated_woba_using_speedangle\"\n",
        "pitch_data_bip = pitch_data_bip.dropna(subset=features_knn + [target_knn])"
      ]
    },
    {
      "cell_type": "code",
      "execution_count": 9,
      "metadata": {
        "id": "j0HJ-1JmLIeM"
      },
      "outputs": [
        {
          "name": "stdout",
          "output_type": "stream",
          "text": [
            "Number of pitches: 641358\n"
          ]
        }
      ],
      "source": [
        "scaler = StandardScaler()\n",
        "X_scaled = scaler.fit_transform(pitch_data_bip[features_knn])\n",
        "\n",
        "# Train KNN to estimate hitter performance based on launch angle and exit velocity\n",
        "knn = KNeighborsRegressor(n_neighbors=10, weights=\"distance\")\n",
        "knn.fit(X_scaled, pitch_data_bip[target_knn])\n",
        "\n",
        "pitch_data_bip[\"xwOBA_KNN\"] = knn.predict(X_scaled)  #apply predictions back to the dataset\n",
        "\n",
        "# Calculate average predicted expected wOBA per zone and pitch type for hitters\n",
        "zone_success = pitch_data_bip.groupby([\"batter\", \"zone_x\", \"zone_z\"])[\"xwOBA_KNN\"].mean().reset_index()\n",
        "pitch_type_success = pitch_data_bip.groupby([\"batter\", \"pitch_type\"])[target_knn].mean().reset_index()\n",
        "pitch_type_success.rename(columns={target_knn: \"estimated_woba_by_pitch_type\"}, inplace=True)\n",
        "pitcher_zone_xwoba = pitch_data_bip.groupby([\"pitcher\", \"zone_x\", \"zone_z\"])[target_knn].mean().reset_index()\n",
        "pitcher_zone_xwoba.rename(columns={target_knn: \"pitcher_zone_xwoba_allowed\"}, inplace=True)\n",
        "\n",
        "pitch_data = pitch_data.drop(columns=[\"estimated_woba_using_speedangle_zone_avg\"], errors=\"ignore\")\n",
        "# Merge new metrics back into dataset\n",
        "pitch_data = pitch_data.merge(zone_success, on=[\"batter\", \"zone_x\", \"zone_z\"], how=\"left\")\n",
        "pitch_data = pitch_data.merge(pitch_type_success, on=[\"batter\", \"pitch_type\"], how=\"left\")\n",
        "pitch_data = pitch_data.merge(pitcher_zone_xwoba, on=[\"pitcher\", \"zone_x\", \"zone_z\"], how=\"left\")\n",
        "pitch_data.rename(columns={\"xwOBA_KNN\": \"estimated_woba_using_speedangle_zone_avg\"}, inplace=True)\n",
        "\n",
        "print(\"Number of pitches:\", pitch_data.shape[0])"
      ]
    },
    {
      "attachments": {},
      "cell_type": "markdown",
      "metadata": {
        "id": "OidFY7dGLIeM"
      },
      "source": [
        "### Grouping\n",
        "\n",
        "Grouping data into unique at-bats. Group pitches into a dataframe of unique at-bats. Grouped by gate date, at bat number, and home team. First row in each pitch frame is the last pitch in the sequence.\n",
        "\n",
        "Removing rows and at-bats where pitch_type, release_speed, spin_axis, release_extension, and effective_speed have NA values. I made sure to remove entire at-bat sequences."
      ]
    },
    {
      "cell_type": "code",
      "execution_count": 10,
      "metadata": {
        "id": "64lZqRmCJgVF"
      },
      "outputs": [
        {
          "name": "stdout",
          "output_type": "stream",
          "text": [
            "Number of pitches: 641358\n"
          ]
        }
      ],
      "source": [
        "# Filter down to just the relevant columns (features + target)\n",
        "cols = ['release_speed', 'release_pos_x', 'release_pos_z', 'pfx_x', 'pfx_z', 'plate_x', 'plate_z', 'spin_axis',\n",
        "            'release_extension', 'estimated_woba_using_speedangle_zone_avg', 'estimated_woba_by_pitch_type', \n",
        "            'launch_angle', 'launch_speed',\n",
        "            'cluster_label', 'n_thruorder_pitcher', 'balls', 'strikes',\n",
        "            'game_date', 'at_bat_number', 'home_team',\n",
        "            'description',\n",
        "            target]\n",
        "\n",
        "pitch_data_filtered = pitch_data[cols]\n",
        "print(\"Number of pitches:\", pitch_data_filtered.shape[0])"
      ]
    },
    {
      "cell_type": "code",
      "execution_count": 11,
      "metadata": {
        "colab": {
          "base_uri": "https://localhost:8080/",
          "height": 475
        },
        "id": "QQWfPfGPLIeM",
        "outputId": "91ae25e7-20f4-4316-97c0-3e7446d2291d"
      },
      "outputs": [
        {
          "name": "stdout",
          "output_type": "stream",
          "text": [
            "Number of pitch sequences: 163020\n"
          ]
        },
        {
          "data": {
            "text/html": [
              "<div>\n",
              "<style scoped>\n",
              "    .dataframe tbody tr th:only-of-type {\n",
              "        vertical-align: middle;\n",
              "    }\n",
              "\n",
              "    .dataframe tbody tr th {\n",
              "        vertical-align: top;\n",
              "    }\n",
              "\n",
              "    .dataframe thead th {\n",
              "        text-align: right;\n",
              "    }\n",
              "</style>\n",
              "<table border=\"1\" class=\"dataframe\">\n",
              "  <thead>\n",
              "    <tr style=\"text-align: right;\">\n",
              "      <th></th>\n",
              "      <th></th>\n",
              "      <th></th>\n",
              "      <th>release_speed</th>\n",
              "      <th>release_pos_x</th>\n",
              "      <th>release_pos_z</th>\n",
              "      <th>pfx_x</th>\n",
              "      <th>pfx_z</th>\n",
              "      <th>plate_x</th>\n",
              "      <th>plate_z</th>\n",
              "      <th>spin_axis</th>\n",
              "      <th>release_extension</th>\n",
              "      <th>estimated_woba_using_speedangle_zone_avg</th>\n",
              "      <th>estimated_woba_by_pitch_type</th>\n",
              "      <th>launch_angle</th>\n",
              "      <th>launch_speed</th>\n",
              "      <th>cluster_label</th>\n",
              "      <th>n_thruorder_pitcher</th>\n",
              "      <th>balls</th>\n",
              "      <th>strikes</th>\n",
              "      <th>description</th>\n",
              "      <th>estimated_woba_using_speedangle</th>\n",
              "    </tr>\n",
              "    <tr>\n",
              "      <th>game_date</th>\n",
              "      <th>at_bat_number</th>\n",
              "      <th>home_team</th>\n",
              "      <th></th>\n",
              "      <th></th>\n",
              "      <th></th>\n",
              "      <th></th>\n",
              "      <th></th>\n",
              "      <th></th>\n",
              "      <th></th>\n",
              "      <th></th>\n",
              "      <th></th>\n",
              "      <th></th>\n",
              "      <th></th>\n",
              "      <th></th>\n",
              "      <th></th>\n",
              "      <th></th>\n",
              "      <th></th>\n",
              "      <th></th>\n",
              "      <th></th>\n",
              "      <th></th>\n",
              "      <th></th>\n",
              "    </tr>\n",
              "  </thead>\n",
              "  <tbody>\n",
              "    <tr>\n",
              "      <th rowspan=\"5\" valign=\"top\">2024-03-20</th>\n",
              "      <th>1</th>\n",
              "      <th>SD</th>\n",
              "      <td>93.9</td>\n",
              "      <td>-2.17</td>\n",
              "      <td>5.70</td>\n",
              "      <td>-1.34</td>\n",
              "      <td>1.09</td>\n",
              "      <td>-2.02</td>\n",
              "      <td>2.90</td>\n",
              "      <td>233.0</td>\n",
              "      <td>5.9</td>\n",
              "      <td>0.389187</td>\n",
              "      <td>0.470068</td>\n",
              "      <td>26.0</td>\n",
              "      <td>73.5</td>\n",
              "      <td>1.0</td>\n",
              "      <td>1</td>\n",
              "      <td>2</td>\n",
              "      <td>1</td>\n",
              "      <td>ball</td>\n",
              "      <td>NaN</td>\n",
              "    </tr>\n",
              "    <tr>\n",
              "      <th>2</th>\n",
              "      <th>SD</th>\n",
              "      <td>91.1</td>\n",
              "      <td>-2.05</td>\n",
              "      <td>5.58</td>\n",
              "      <td>-1.33</td>\n",
              "      <td>0.22</td>\n",
              "      <td>-0.80</td>\n",
              "      <td>2.82</td>\n",
              "      <td>264.0</td>\n",
              "      <td>5.8</td>\n",
              "      <td>0.628037</td>\n",
              "      <td>0.666520</td>\n",
              "      <td>-13.0</td>\n",
              "      <td>77.9</td>\n",
              "      <td>0.0</td>\n",
              "      <td>1</td>\n",
              "      <td>2</td>\n",
              "      <td>1</td>\n",
              "      <td>hit_into_play</td>\n",
              "      <td>0.059</td>\n",
              "    </tr>\n",
              "    <tr>\n",
              "      <th>3</th>\n",
              "      <th>SD</th>\n",
              "      <td>95.4</td>\n",
              "      <td>-2.11</td>\n",
              "      <td>5.61</td>\n",
              "      <td>-1.51</td>\n",
              "      <td>0.56</td>\n",
              "      <td>0.33</td>\n",
              "      <td>2.22</td>\n",
              "      <td>253.0</td>\n",
              "      <td>6.0</td>\n",
              "      <td>0.404005</td>\n",
              "      <td>0.346541</td>\n",
              "      <td>NaN</td>\n",
              "      <td>NaN</td>\n",
              "      <td>1.0</td>\n",
              "      <td>1</td>\n",
              "      <td>1</td>\n",
              "      <td>2</td>\n",
              "      <td>called_strike</td>\n",
              "      <td>0.000</td>\n",
              "    </tr>\n",
              "    <tr>\n",
              "      <th>4</th>\n",
              "      <th>SD</th>\n",
              "      <td>94.5</td>\n",
              "      <td>-1.91</td>\n",
              "      <td>5.67</td>\n",
              "      <td>-0.35</td>\n",
              "      <td>1.62</td>\n",
              "      <td>-0.07</td>\n",
              "      <td>2.37</td>\n",
              "      <td>193.0</td>\n",
              "      <td>6.2</td>\n",
              "      <td>0.354223</td>\n",
              "      <td>0.421354</td>\n",
              "      <td>33.0</td>\n",
              "      <td>86.6</td>\n",
              "      <td>1.0</td>\n",
              "      <td>1</td>\n",
              "      <td>1</td>\n",
              "      <td>0</td>\n",
              "      <td>hit_into_play</td>\n",
              "      <td>0.034</td>\n",
              "    </tr>\n",
              "    <tr>\n",
              "      <th>5</th>\n",
              "      <th>SD</th>\n",
              "      <td>96.9</td>\n",
              "      <td>-1.74</td>\n",
              "      <td>6.05</td>\n",
              "      <td>-0.03</td>\n",
              "      <td>1.56</td>\n",
              "      <td>-0.28</td>\n",
              "      <td>2.66</td>\n",
              "      <td>181.0</td>\n",
              "      <td>8.0</td>\n",
              "      <td>0.390271</td>\n",
              "      <td>0.322688</td>\n",
              "      <td>60.0</td>\n",
              "      <td>90.9</td>\n",
              "      <td>1.0</td>\n",
              "      <td>1</td>\n",
              "      <td>3</td>\n",
              "      <td>2</td>\n",
              "      <td>hit_into_play</td>\n",
              "      <td>0.008</td>\n",
              "    </tr>\n",
              "    <tr>\n",
              "      <th>...</th>\n",
              "      <th>...</th>\n",
              "      <th>...</th>\n",
              "      <td>...</td>\n",
              "      <td>...</td>\n",
              "      <td>...</td>\n",
              "      <td>...</td>\n",
              "      <td>...</td>\n",
              "      <td>...</td>\n",
              "      <td>...</td>\n",
              "      <td>...</td>\n",
              "      <td>...</td>\n",
              "      <td>...</td>\n",
              "      <td>...</td>\n",
              "      <td>...</td>\n",
              "      <td>...</td>\n",
              "      <td>...</td>\n",
              "      <td>...</td>\n",
              "      <td>...</td>\n",
              "      <td>...</td>\n",
              "      <td>...</td>\n",
              "      <td>...</td>\n",
              "    </tr>\n",
              "    <tr>\n",
              "      <th rowspan=\"5\" valign=\"top\">2024-09-30</th>\n",
              "      <th>78</th>\n",
              "      <th>ATL</th>\n",
              "      <td>86.2</td>\n",
              "      <td>-2.08</td>\n",
              "      <td>5.95</td>\n",
              "      <td>0.58</td>\n",
              "      <td>-0.51</td>\n",
              "      <td>0.54</td>\n",
              "      <td>0.75</td>\n",
              "      <td>45.0</td>\n",
              "      <td>5.9</td>\n",
              "      <td>0.102750</td>\n",
              "      <td>0.107000</td>\n",
              "      <td>54.0</td>\n",
              "      <td>79.4</td>\n",
              "      <td>2.0</td>\n",
              "      <td>1</td>\n",
              "      <td>3</td>\n",
              "      <td>2</td>\n",
              "      <td>swinging_strike_blocked</td>\n",
              "      <td>0.000</td>\n",
              "    </tr>\n",
              "    <tr>\n",
              "      <th>79</th>\n",
              "      <th>ATL</th>\n",
              "      <td>94.2</td>\n",
              "      <td>-2.16</td>\n",
              "      <td>4.93</td>\n",
              "      <td>-1.11</td>\n",
              "      <td>1.20</td>\n",
              "      <td>0.84</td>\n",
              "      <td>2.93</td>\n",
              "      <td>233.0</td>\n",
              "      <td>7.5</td>\n",
              "      <td>0.443264</td>\n",
              "      <td>0.461950</td>\n",
              "      <td>58.0</td>\n",
              "      <td>76.1</td>\n",
              "      <td>2.0</td>\n",
              "      <td>1</td>\n",
              "      <td>0</td>\n",
              "      <td>0</td>\n",
              "      <td>hit_into_play</td>\n",
              "      <td>0.039</td>\n",
              "    </tr>\n",
              "    <tr>\n",
              "      <th>80</th>\n",
              "      <th>ATL</th>\n",
              "      <td>90.4</td>\n",
              "      <td>-2.16</td>\n",
              "      <td>5.12</td>\n",
              "      <td>0.18</td>\n",
              "      <td>0.47</td>\n",
              "      <td>0.53</td>\n",
              "      <td>1.73</td>\n",
              "      <td>215.0</td>\n",
              "      <td>7.2</td>\n",
              "      <td>0.613500</td>\n",
              "      <td>0.878000</td>\n",
              "      <td>21.0</td>\n",
              "      <td>72.0</td>\n",
              "      <td>1.0</td>\n",
              "      <td>1</td>\n",
              "      <td>3</td>\n",
              "      <td>2</td>\n",
              "      <td>hit_into_play</td>\n",
              "      <td>0.878</td>\n",
              "    </tr>\n",
              "    <tr>\n",
              "      <th>81</th>\n",
              "      <th>ATL</th>\n",
              "      <td>91.0</td>\n",
              "      <td>-2.00</td>\n",
              "      <td>5.21</td>\n",
              "      <td>0.26</td>\n",
              "      <td>0.62</td>\n",
              "      <td>1.25</td>\n",
              "      <td>2.22</td>\n",
              "      <td>204.0</td>\n",
              "      <td>7.4</td>\n",
              "      <td>0.298333</td>\n",
              "      <td>0.240864</td>\n",
              "      <td>-23.0</td>\n",
              "      <td>85.2</td>\n",
              "      <td>1.0</td>\n",
              "      <td>1</td>\n",
              "      <td>1</td>\n",
              "      <td>2</td>\n",
              "      <td>swinging_strike</td>\n",
              "      <td>0.000</td>\n",
              "    </tr>\n",
              "    <tr>\n",
              "      <th>82</th>\n",
              "      <th>ATL</th>\n",
              "      <td>97.4</td>\n",
              "      <td>-2.10</td>\n",
              "      <td>4.88</td>\n",
              "      <td>-0.96</td>\n",
              "      <td>0.99</td>\n",
              "      <td>0.67</td>\n",
              "      <td>3.00</td>\n",
              "      <td>232.0</td>\n",
              "      <td>7.6</td>\n",
              "      <td>0.251674</td>\n",
              "      <td>0.457656</td>\n",
              "      <td>-30.0</td>\n",
              "      <td>87.6</td>\n",
              "      <td>2.0</td>\n",
              "      <td>1</td>\n",
              "      <td>2</td>\n",
              "      <td>2</td>\n",
              "      <td>hit_into_play</td>\n",
              "      <td>0.052</td>\n",
              "    </tr>\n",
              "  </tbody>\n",
              "</table>\n",
              "<p>163020 rows × 19 columns</p>\n",
              "</div>"
            ],
            "text/plain": [
              "                                    release_speed  release_pos_x  \\\n",
              "game_date  at_bat_number home_team                                 \n",
              "2024-03-20 1             SD                  93.9          -2.17   \n",
              "           2             SD                  91.1          -2.05   \n",
              "           3             SD                  95.4          -2.11   \n",
              "           4             SD                  94.5          -1.91   \n",
              "           5             SD                  96.9          -1.74   \n",
              "...                                           ...            ...   \n",
              "2024-09-30 78            ATL                 86.2          -2.08   \n",
              "           79            ATL                 94.2          -2.16   \n",
              "           80            ATL                 90.4          -2.16   \n",
              "           81            ATL                 91.0          -2.00   \n",
              "           82            ATL                 97.4          -2.10   \n",
              "\n",
              "                                    release_pos_z  pfx_x  pfx_z  plate_x  \\\n",
              "game_date  at_bat_number home_team                                         \n",
              "2024-03-20 1             SD                  5.70  -1.34   1.09    -2.02   \n",
              "           2             SD                  5.58  -1.33   0.22    -0.80   \n",
              "           3             SD                  5.61  -1.51   0.56     0.33   \n",
              "           4             SD                  5.67  -0.35   1.62    -0.07   \n",
              "           5             SD                  6.05  -0.03   1.56    -0.28   \n",
              "...                                           ...    ...    ...      ...   \n",
              "2024-09-30 78            ATL                 5.95   0.58  -0.51     0.54   \n",
              "           79            ATL                 4.93  -1.11   1.20     0.84   \n",
              "           80            ATL                 5.12   0.18   0.47     0.53   \n",
              "           81            ATL                 5.21   0.26   0.62     1.25   \n",
              "           82            ATL                 4.88  -0.96   0.99     0.67   \n",
              "\n",
              "                                    plate_z  spin_axis  release_extension  \\\n",
              "game_date  at_bat_number home_team                                          \n",
              "2024-03-20 1             SD            2.90      233.0                5.9   \n",
              "           2             SD            2.82      264.0                5.8   \n",
              "           3             SD            2.22      253.0                6.0   \n",
              "           4             SD            2.37      193.0                6.2   \n",
              "           5             SD            2.66      181.0                8.0   \n",
              "...                                     ...        ...                ...   \n",
              "2024-09-30 78            ATL           0.75       45.0                5.9   \n",
              "           79            ATL           2.93      233.0                7.5   \n",
              "           80            ATL           1.73      215.0                7.2   \n",
              "           81            ATL           2.22      204.0                7.4   \n",
              "           82            ATL           3.00      232.0                7.6   \n",
              "\n",
              "                                    estimated_woba_using_speedangle_zone_avg  \\\n",
              "game_date  at_bat_number home_team                                             \n",
              "2024-03-20 1             SD                                         0.389187   \n",
              "           2             SD                                         0.628037   \n",
              "           3             SD                                         0.404005   \n",
              "           4             SD                                         0.354223   \n",
              "           5             SD                                         0.390271   \n",
              "...                                                                      ...   \n",
              "2024-09-30 78            ATL                                        0.102750   \n",
              "           79            ATL                                        0.443264   \n",
              "           80            ATL                                        0.613500   \n",
              "           81            ATL                                        0.298333   \n",
              "           82            ATL                                        0.251674   \n",
              "\n",
              "                                    estimated_woba_by_pitch_type  \\\n",
              "game_date  at_bat_number home_team                                 \n",
              "2024-03-20 1             SD                             0.470068   \n",
              "           2             SD                             0.666520   \n",
              "           3             SD                             0.346541   \n",
              "           4             SD                             0.421354   \n",
              "           5             SD                             0.322688   \n",
              "...                                                          ...   \n",
              "2024-09-30 78            ATL                            0.107000   \n",
              "           79            ATL                            0.461950   \n",
              "           80            ATL                            0.878000   \n",
              "           81            ATL                            0.240864   \n",
              "           82            ATL                            0.457656   \n",
              "\n",
              "                                    launch_angle  launch_speed  cluster_label  \\\n",
              "game_date  at_bat_number home_team                                              \n",
              "2024-03-20 1             SD                 26.0          73.5            1.0   \n",
              "           2             SD                -13.0          77.9            0.0   \n",
              "           3             SD                  NaN           NaN            1.0   \n",
              "           4             SD                 33.0          86.6            1.0   \n",
              "           5             SD                 60.0          90.9            1.0   \n",
              "...                                          ...           ...            ...   \n",
              "2024-09-30 78            ATL                54.0          79.4            2.0   \n",
              "           79            ATL                58.0          76.1            2.0   \n",
              "           80            ATL                21.0          72.0            1.0   \n",
              "           81            ATL               -23.0          85.2            1.0   \n",
              "           82            ATL               -30.0          87.6            2.0   \n",
              "\n",
              "                                    n_thruorder_pitcher  balls  strikes  \\\n",
              "game_date  at_bat_number home_team                                        \n",
              "2024-03-20 1             SD                           1      2        1   \n",
              "           2             SD                           1      2        1   \n",
              "           3             SD                           1      1        2   \n",
              "           4             SD                           1      1        0   \n",
              "           5             SD                           1      3        2   \n",
              "...                                                 ...    ...      ...   \n",
              "2024-09-30 78            ATL                          1      3        2   \n",
              "           79            ATL                          1      0        0   \n",
              "           80            ATL                          1      3        2   \n",
              "           81            ATL                          1      1        2   \n",
              "           82            ATL                          1      2        2   \n",
              "\n",
              "                                                description  \\\n",
              "game_date  at_bat_number home_team                            \n",
              "2024-03-20 1             SD                            ball   \n",
              "           2             SD                   hit_into_play   \n",
              "           3             SD                   called_strike   \n",
              "           4             SD                   hit_into_play   \n",
              "           5             SD                   hit_into_play   \n",
              "...                                                     ...   \n",
              "2024-09-30 78            ATL        swinging_strike_blocked   \n",
              "           79            ATL                  hit_into_play   \n",
              "           80            ATL                  hit_into_play   \n",
              "           81            ATL                swinging_strike   \n",
              "           82            ATL                  hit_into_play   \n",
              "\n",
              "                                    estimated_woba_using_speedangle  \n",
              "game_date  at_bat_number home_team                                   \n",
              "2024-03-20 1             SD                                     NaN  \n",
              "           2             SD                                   0.059  \n",
              "           3             SD                                   0.000  \n",
              "           4             SD                                   0.034  \n",
              "           5             SD                                   0.008  \n",
              "...                                                             ...  \n",
              "2024-09-30 78            ATL                                  0.000  \n",
              "           79            ATL                                  0.039  \n",
              "           80            ATL                                  0.878  \n",
              "           81            ATL                                  0.000  \n",
              "           82            ATL                                  0.052  \n",
              "\n",
              "[163020 rows x 19 columns]"
            ]
          },
          "execution_count": 11,
          "metadata": {},
          "output_type": "execute_result"
        }
      ],
      "source": [
        "# Group by the specified columns\n",
        "grouped = pitch_data_filtered.groupby(grouping_variables)\n",
        "# First row in each pitch frame is the last pitch in the sequence - note that there's a value for wOBA\n",
        "print(\"Number of pitch sequences:\", len(grouped))\n",
        "grouped.first()"
      ]
    },
    {
      "attachments": {},
      "cell_type": "markdown",
      "metadata": {
        "id": "iFv94fgkLIeM"
      },
      "source": [
        "Remove groups that don't have any rows with a value for estimated woba using speedangle or a value of 'hit_into_play' for 'description'. Basically, if there's any at-bats where a ball was not hit into play."
      ]
    },
    {
      "cell_type": "code",
      "execution_count": 12,
      "metadata": {
        "id": "VpzgMvDELIeN"
      },
      "outputs": [
        {
          "name": "stdout",
          "output_type": "stream",
          "text": [
            "Number of pitch sequences: 161534\n",
            "Number of pitch sequences: 110320\n"
          ]
        }
      ],
      "source": [
        "# Removing groups where none of the rows have a estimated woba using speedangle\n",
        "filtered_grouped = grouped.filter(lambda group: group[target].notna().any())\n",
        "grouped = filtered_grouped.groupby(grouping_variables)\n",
        "print(\"Number of pitch sequences:\", len(grouped))\n",
        "\n",
        "# Removing groups where none of the rows have 'hit_into_play' in 'description' column\n",
        "filtered_grouped = grouped.filter(lambda group: (group['description'] == 'hit_into_play').any())\n",
        "grouped = filtered_grouped.groupby(grouping_variables)\n",
        "print(\"Number of pitch sequences:\", len(grouped))"
      ]
    },
    {
      "attachments": {},
      "cell_type": "markdown",
      "metadata": {
        "id": "F7sEG0ZRLIeN"
      },
      "source": [
        "Notice that all of the below (last pitch in sequence) now have a description of 'hit_into_play'."
      ]
    },
    {
      "cell_type": "code",
      "execution_count": 13,
      "metadata": {
        "colab": {
          "base_uri": "https://localhost:8080/",
          "height": 490
        },
        "id": "AU1JaXnJLIeN",
        "outputId": "602589e9-6f1b-439b-c77b-abdbcca5a9df"
      },
      "outputs": [
        {
          "data": {
            "text/plain": [
              "game_date   at_bat_number  home_team\n",
              "2024-03-20  2              SD           hit_into_play\n",
              "            4              SD           hit_into_play\n",
              "            5              SD           hit_into_play\n",
              "            6              SD           hit_into_play\n",
              "            8              SD           hit_into_play\n",
              "                                            ...      \n",
              "2024-09-30  76             ATL          hit_into_play\n",
              "            77             ATL          hit_into_play\n",
              "            79             ATL          hit_into_play\n",
              "            80             ATL          hit_into_play\n",
              "            82             ATL          hit_into_play\n",
              "Name: description, Length: 110320, dtype: object"
            ]
          },
          "execution_count": 13,
          "metadata": {},
          "output_type": "execute_result"
        }
      ],
      "source": [
        "grouped.first()['description']"
      ]
    },
    {
      "attachments": {},
      "cell_type": "markdown",
      "metadata": {},
      "source": [
        "### Sequence Clipping and Padding\n",
        "\n",
        "I want to make mimize one or two very long sequences causing us to increase the size of our time series dataframe dramatically. So, will clip the top 1% of length outliers (which at time of writing means clipping any time series with more than 8 pitches).\n",
        "\n",
        "Get feature array into a homogenous shape. That is, pad sequences to the max sequence length so that they all have the same number of rows. Pad with 0.0 to the end of the sequence."
      ]
    },
    {
      "cell_type": "code",
      "execution_count": 14,
      "metadata": {},
      "outputs": [],
      "source": [
        "def drop_long_sequences(df):\n",
        "    # Get number of pitches each at-bat has\n",
        "    sizes = df.size().values\n",
        "    # Determine number to drop (0.99% of data)\n",
        "    max_pitches = np.quantile(sizes, 0.99)\n",
        "    print(f\"Max sequence length is {sizes.max()}. Include sequences with less than {int(max_pitches) + 1} pitches.\")\n",
        "    # Drop groups with these\n",
        "    filtered_df = df.filter(lambda x: len(x) <= max_pitches)\n",
        "    filtered_group = filtered_df.groupby(['game_date', 'at_bat_number', 'home_team'])\n",
        "\n",
        "    return filtered_group\n",
        "\n",
        "\n",
        "def grouped_to_array_pad(grouped_df):\n",
        "    # Get grouped features into one array, ensure each sequence has exactly 9 rows in one loop\n",
        "    output_array = []\n",
        "\n",
        "    # Max number of rows in a sequence\n",
        "    max_seq = grouped_df.size().values.max()\n",
        "\n",
        "    # Number of variables used\n",
        "    n_vars = grouped_df.first().columns.shape[0]\n",
        "\n",
        "    for group in grouped_df:\n",
        "        # Convert sequence to numpy array\n",
        "        seq = group[1].to_numpy(dtype='float32')\n",
        "        # Pad end of sequences to get homogenous shape\n",
        "        if len(seq) < max_seq:\n",
        "            padding = np.full((max_seq - len(seq), n_vars), 0.0, dtype='float32')\n",
        "            seq = np.concatenate([seq, padding])\n",
        "        elif len(seq) > max_seq:\n",
        "            break\n",
        "        # Append sequence to output values\n",
        "        output_array.append(seq)\n",
        "    # Convert to numpy array\n",
        "    output_array = np.array(output_array, dtype='float32')\n",
        "\n",
        "    return output_array"
      ]
    },
    {
      "cell_type": "code",
      "execution_count": 15,
      "metadata": {
        "id": "N_yoFrCvRHjk"
      },
      "outputs": [
        {
          "name": "stdout",
          "output_type": "stream",
          "text": [
            "Max sequence length is 18. Include sequences with less than 10 pitches.\n",
            "Number of unique pitch sequences:  109601\n"
          ]
        }
      ],
      "source": [
        "# Drop any exceptionally long sequences\n",
        "grouped = drop_long_sequences(grouped)\n",
        "\n",
        "# Filter variables down\n",
        "grouped_features = grouped[features]\n",
        "\n",
        "# Get features into one array of equal size\n",
        "input_values = grouped_to_array_pad(grouped_features)\n",
        "print(\"Number of unique pitch sequences: \", len(grouped))"
      ]
    },
    {
      "cell_type": "code",
      "execution_count": 16,
      "metadata": {},
      "outputs": [
        {
          "data": {
            "text/plain": [
              "Index(['release_speed', 'release_pos_x', 'release_pos_z', 'pfx_x', 'pfx_z',\n",
              "       'plate_x', 'plate_z', 'spin_axis', 'release_extension',\n",
              "       'estimated_woba_using_speedangle_zone_avg',\n",
              "       'estimated_woba_by_pitch_type', 'cluster_label', 'n_thruorder_pitcher',\n",
              "       'balls', 'strikes'],\n",
              "      dtype='object')"
            ]
          },
          "execution_count": 16,
          "metadata": {},
          "output_type": "execute_result"
        }
      ],
      "source": [
        "grouped_features.first().columns"
      ]
    },
    {
      "attachments": {},
      "cell_type": "markdown",
      "metadata": {
        "id": "zJ_AppIyLIeN"
      },
      "source": [
        "### Finalize predictors and targets"
      ]
    },
    {
      "cell_type": "code",
      "execution_count": 17,
      "metadata": {
        "id": "F8lUaGp1LIeN"
      },
      "outputs": [],
      "source": [
        "# Get last pitches in sequence (first in series) and convert to numpy array. These contain the wOBA values\n",
        "ys = grouped.first()[target].to_numpy(dtype='float32')"
      ]
    },
    {
      "cell_type": "code",
      "execution_count": 18,
      "metadata": {},
      "outputs": [
        {
          "name": "stdout",
          "output_type": "stream",
          "text": [
            "Number of pitch sequences (features): 109601\n",
            "Number of pitch sequences (targets): 109601\n",
            "Number of variables: 15\n"
          ]
        }
      ],
      "source": [
        "# Confirm that targets and features have the same number of rows\n",
        "print(\"Number of pitch sequences (features):\", ys.shape[0])\n",
        "print(\"Number of pitch sequences (targets):\", input_values.shape[0])\n",
        "assert input_values.shape[0] == ys.shape[0]\n",
        "print(\"Number of variables:\", input_values[0].shape[1])"
      ]
    },
    {
      "cell_type": "code",
      "execution_count": 19,
      "metadata": {},
      "outputs": [],
      "source": [
        "# One last time, drop nan values (sequences with nan values)\n",
        "nan_seqs = np.where([np.isnan(row).sum() > 0 for row in input_values])\n",
        "ys_final = np.delete(ys, nan_seqs, axis=0)\n",
        "input_values_final = np.delete(input_values, nan_seqs, axis=0)"
      ]
    },
    {
      "cell_type": "code",
      "execution_count": 20,
      "metadata": {
        "colab": {
          "base_uri": "https://localhost:8080/"
        },
        "id": "SeRLZbCTLIeN",
        "outputId": "68f94ea6-a4f2-4c1d-a970-3256fdbc3f6c"
      },
      "outputs": [
        {
          "name": "stdout",
          "output_type": "stream",
          "text": [
            "Number of pitch sequences: 71098\n",
            "Number of variables: 15\n"
          ]
        }
      ],
      "source": [
        "print(\"Number of pitch sequences:\", ys_final.shape[0])\n",
        "print(\"Number of variables:\", input_values_final[0].shape[1])"
      ]
    },
    {
      "attachments": {},
      "cell_type": "markdown",
      "metadata": {},
      "source": [
        "### Target value distribution"
      ]
    },
    {
      "cell_type": "code",
      "execution_count": 21,
      "metadata": {},
      "outputs": [
        {
          "data": {
            "image/png": "[encoded data removed]",
            "text/plain": [
              "<Figure size 640x480 with 1 Axes>"
            ]
          },
          "metadata": {},
          "output_type": "display_data"
        }
      ],
      "source": [
        "plt.title(\"Distribution of Target Values\")\n",
        "sns.histplot(ys_final, bins=50)\n",
        "plt.axvline(x=ys_final.mean(), color='r', linestyle='--', label=f'Target Mean ({ys_final.mean():.3f})')\n",
        "plt.legend()\n",
        "plt.xlabel(\"Estimated wOBA Using Speedangle\")\n",
        "plt.show()"
      ]
    },
    {
      "cell_type": "code",
      "execution_count": 22,
      "metadata": {},
      "outputs": [
        {
          "name": "stdout",
          "output_type": "stream",
          "text": [
            "Mean: 0.36464250087738037\n",
            "Median: 0.23899999260902405\n",
            "Standard Deviation: 0.38165217638015747\n",
            "Variance: 0.14565838873386383\n",
            "Minimum: 0.0\n",
            "Maximum: 2.0409998893737793\n"
          ]
        }
      ],
      "source": [
        "# Print descriptive statistics\n",
        "print(f\"Mean: {np.mean(ys_final)}\")\n",
        "print(f\"Median: {np.median(ys_final)}\")\n",
        "print(f\"Standard Deviation: {np.std(ys_final)}\")\n",
        "print(f\"Variance: {np.var(ys_final)}\")\n",
        "print(f\"Minimum: {np.min(ys_final)}\")\n",
        "print(f\"Maximum: {np.max(ys_final)}\")"
      ]
    },
    {
      "cell_type": "code",
      "execution_count": 23,
      "metadata": {},
      "outputs": [
        {
          "data": {
            "image/png": "[encoded data removed]",
            "text/plain": [
              "<Figure size 500x600 with 1 Axes>"
            ]
          },
          "metadata": {},
          "output_type": "display_data"
        }
      ],
      "source": [
        "plt.figure(figsize=(5, 6))\n",
        "sns.boxplot(y=ys_final, color='skyblue', width=0.3)\n",
        "#plt.title('Target Value Distribution', fontsize=16)\n",
        "plt.ylabel('Estimated wOBA Using Speedangle', fontsize=12)\n",
        "plt.xticks([])\n",
        "plt.grid(True, linestyle='--', alpha=0.8)\n",
        "plt.tight_layout()\n",
        "plt.show()"
      ]
    },
    {
      "cell_type": "code",
      "execution_count": 24,
      "metadata": {},
      "outputs": [
        {
          "data": {
            "image/png": "[encoded data removed]",
            "text/plain": [
              "<Figure size 600x400 with 1 Axes>"
            ]
          },
          "metadata": {},
          "output_type": "display_data"
        }
      ],
      "source": [
        "plt.figure(figsize=(6, 4))  # Wider than tall now\n",
        "sns.boxplot(x=ys_final, color='skyblue', width=0.3)\n",
        "#plt.title('Target Value Distribution', fontsize=16)\n",
        "plt.xlabel('Estimated wOBA Using Speedangle', fontsize=12)\n",
        "plt.yticks([])\n",
        "plt.grid(True, linestyle='--', alpha=0.8)\n",
        "plt.tight_layout()\n",
        "plt.show()"
      ]
    },
    {
      "attachments": {},
      "cell_type": "markdown",
      "metadata": {},
      "source": [
        "### Save input and target tensors for disk for future use\n",
        "\n",
        "Example usage:<br>\n",
        "MLP_dataset = TensorDataset(input_tensor, target_vals)\n"
      ]
    },
    {
      "cell_type": "code",
      "execution_count": 25,
      "metadata": {
        "colab": {
          "base_uri": "https://localhost:8080/"
        },
        "id": "5ywN0788aTha",
        "outputId": "e8a230be-9fdc-43b3-a54a-6617f9a16963"
      },
      "outputs": [
        {
          "name": "stdout",
          "output_type": "stream",
          "text": [
            "Input shape: (71098, 9, 15)\n",
            "Count of nans: 0, 0\n"
          ]
        }
      ],
      "source": [
        "# Check one last time that target and input has same length. Print input size\n",
        "print(f\"Input shape: {input_values_final.shape}\")\n",
        "assert input_values_final.shape[0] == ys_final.shape[0]\n",
        "print(f\"Count of nans: {np.isnan(input_values_final).sum()}, {np.isnan(ys_final).sum()}\")\n",
        "\n",
        "# Convert the list of numpy arrays to a list of tensors\n",
        "input_tensor = tensor(np.array([tensor(series) for series in input_values_final]))\n",
        "target_vals = tensor(ys_final)\n",
        "\n",
        "# Save input and target tensors with torch.save\n",
        "save(input_tensor, './datasets/input_values.pth')\n",
        "save(target_vals, './datasets/target_values.pth')"
      ]
    },
    {
      "cell_type": "code",
      "execution_count": 26,
      "metadata": {},
      "outputs": [
        {
          "data": {
            "text/plain": [
              "'inds = np.where(ys_final > 1.0)[0]\\n#weights = np.where(ys_final[inds] < 0.25, 2, 1)  # Give weight of 10 to values under 0.1, and 1 otherwise\\n#weights = weights / weights.sum()\\nbalance_mask = np.random.choice(inds, int(len(inds) * 1), replace=False)# p=weights)\\n\\nnew_ys = tensor(np.delete(target_vals.numpy(), balance_mask))\\nnew_inputs = tensor(np.delete(input_tensor.numpy(), balance_mask, axis=0))\\n\\nprint(new_ys.shape, new_inputs.shape)\\n\\n\\ninds = np.where(new_ys.numpy() < 0.1)[0]\\n#weights = np.where(ys_final[inds] < 0.25, 2, 1)  # Give weight of 10 to values under 0.1, and 1 otherwise\\n#weights = weights / weights.sum()\\nbalance_mask = np.random.choice(inds, int(len(inds) * 0.5), replace=False)# p=weights)\\n\\nnew_ys = tensor(np.delete(new_ys.numpy(), balance_mask))\\nnew_inputs = tensor(np.delete(new_inputs.numpy(), balance_mask, axis=0))\\n\\n\\n# Find indices where the values are below 0.1\\nindices_to_delete = np.where(ys_final <= 0.25)[0]\\n# Filter out values below 0.1\\nnew_ys = ys_final[target_vals.numpy() > 0.25]\\nnew_inputs = np.delete(input_tensor.numpy(), indices_to_delete, axis=0)\\n\\nprint(new_ys.shape, new_inputs.shape)\\n\\n\\nplt.title(\"Distribution of Target Values\")\\nsns.histplot(new_ys, bins=100)\\nplt.axvline(x=new_ys.mean(), color=\\'r\\', linestyle=\\'--\\', label=f\\'Target Mean ({new_ys.mean():.3f})\\')\\nplt.legend()\\nplt.xlabel(\"Estimated Woba Using Speedangle\")\\nplt.show()\\n\\n\\n# Save input and target tensors with torch.save\\nsave(new_inputs, \\'./datasets/input_values.pth\\')\\nsave(new_ys, \\'./datasets/target_values.pth\\')\\nnp.median(new_ys)'"
            ]
          },
          "execution_count": 26,
          "metadata": {},
          "output_type": "execute_result"
        }
      ],
      "source": [
        "'''inds = np.where(ys_final > 1.0)[0]\n",
        "#weights = np.where(ys_final[inds] < 0.25, 2, 1)  # Give weight of 10 to values under 0.1, and 1 otherwise\n",
        "#weights = weights / weights.sum()\n",
        "balance_mask = np.random.choice(inds, int(len(inds) * 1), replace=False)# p=weights)\n",
        "\n",
        "new_ys = tensor(np.delete(target_vals.numpy(), balance_mask))\n",
        "new_inputs = tensor(np.delete(input_tensor.numpy(), balance_mask, axis=0))\n",
        "\n",
        "print(new_ys.shape, new_inputs.shape)\n",
        "\n",
        "\n",
        "inds = np.where(new_ys.numpy() < 0.1)[0]\n",
        "#weights = np.where(ys_final[inds] < 0.25, 2, 1)  # Give weight of 10 to values under 0.1, and 1 otherwise\n",
        "#weights = weights / weights.sum()\n",
        "balance_mask = np.random.choice(inds, int(len(inds) * 0.5), replace=False)# p=weights)\n",
        "\n",
        "new_ys = tensor(np.delete(new_ys.numpy(), balance_mask))\n",
        "new_inputs = tensor(np.delete(new_inputs.numpy(), balance_mask, axis=0))\n",
        "\n",
        "\n",
        "# Find indices where the values are below 0.1\n",
        "indices_to_delete = np.where(ys_final <= 0.25)[0]\n",
        "# Filter out values below 0.1\n",
        "new_ys = ys_final[target_vals.numpy() > 0.25]\n",
        "new_inputs = np.delete(input_tensor.numpy(), indices_to_delete, axis=0)\n",
        "\n",
        "print(new_ys.shape, new_inputs.shape)\n",
        "\n",
        "\n",
        "plt.title(\"Distribution of Target Values\")\n",
        "sns.histplot(new_ys, bins=100)\n",
        "plt.axvline(x=new_ys.mean(), color='r', linestyle='--', label=f'Target Mean ({new_ys.mean():.3f})')\n",
        "plt.legend()\n",
        "plt.xlabel(\"Estimated Woba Using Speedangle\")\n",
        "plt.show()\n",
        "\n",
        "\n",
        "# Save input and target tensors with torch.save\n",
        "save(new_inputs, './datasets/input_values.pth')\n",
        "save(new_ys, './datasets/target_values.pth')\n",
        "np.median(new_ys)'''"
      ]
    }
  ],
  "metadata": {
    "accelerator": "GPU",
    "colab": {
      "gpuType": "T4",
      "provenance": []
    },
    "kernelspec": {
      "display_name": "Python 3",
      "name": "python3"
    },
    "language_info": {
      "codemirror_mode": {
        "name": "ipython",
        "version": 3
      },
      "file_extension": ".py",
      "mimetype": "text/x-python",
      "name": "python",
      "nbconvert_exporter": "python",
      "pygments_lexer": "ipython3",
      "version": "3.13.2"
    },
    "orig_nbformat": 4
  },
  "nbformat": 4,
  "nbformat_minor": 0
}
