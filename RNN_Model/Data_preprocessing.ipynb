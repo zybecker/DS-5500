{
  "cells": [
    {
      "attachments": {},
      "cell_type": "markdown",
      "metadata": {
        "id": "RQN7I5v1LIeI"
      },
      "source": [
        "Zachary Armand"
      ]
    },
    {
      "cell_type": "code",
      "execution_count": 26,
      "metadata": {
        "id": "p2omfKXCLIeJ"
      },
      "outputs": [],
      "source": [
        "import pandas as pd\n",
        "import numpy as np\n",
        "import matplotlib.pyplot as plt\n",
        "from tqdm import tqdm\n",
        "from copy import deepcopy\n",
        "# Use for creating and saving tensors at end of process\n",
        "from torch import save, tensor\n",
        "from torch.nn.utils.rnn import pad_sequence"
      ]
    },
    {
      "cell_type": "code",
      "execution_count": 51,
      "metadata": {
        "id": "slOCmaSCLIeK"
      },
      "outputs": [
        {
          "name": "stdout",
          "output_type": "stream",
          "text": [
            "Note: you may need to restart the kernel to use updated packages.\n"
          ]
        }
      ],
      "source": [
        "#pip freeze > requirements.txt"
      ]
    },
    {
      "attachments": {},
      "cell_type": "markdown",
      "metadata": {
        "id": "swDml5kHLIeL"
      },
      "source": [
        "# Data Preprocessing"
      ]
    },
    {
      "cell_type": "code",
      "execution_count": 28,
      "metadata": {
        "id": "0Bsu6CrCLIeL"
      },
      "outputs": [],
      "source": [
        "def delete_unique_at_bats(df, ind):\n",
        "    \"\"\"\n",
        "        For a given dataframe and index, delete all pitches in that at-bat sequence.\n",
        "        At-bat sequences are determined by pitches that share game date, at-bat number, and home team.\n",
        "    \"\"\"\n",
        "\n",
        "    # Get game date, at bat number, and home team from this index as a list\n",
        "    at_bat_info = df.loc[ind][['game_date', 'at_bat_number', 'home_team']].values.tolist()\n",
        "\n",
        "    if isinstance(ind, (list, pd.core.indexes.base.Index, np.ndarray)):  # mulitple indices to delete\n",
        "        # Create a mask to match the rows\n",
        "        mask = df.apply(lambda row: [row['game_date'], row['at_bat_number'], row['home_team']] in at_bat_info, axis=1)\n",
        "        # Get indices here\n",
        "        all_inds = mask.index[mask]\n",
        "    else:   # single index\n",
        "        # Get indices of rows with these values\n",
        "        all_inds = df[(df['game_date'] == at_bat_info[0]) & (df['at_bat_number'] == at_bat_info[1]) & (df['home_team'] == at_bat_info[2])].index\n",
        "\n",
        "    # Delete these indices\n",
        "    df_cleaned = df.drop(index=all_inds, inplace=False)\n",
        "\n",
        "    return df_cleaned"
      ]
    },
    {
      "attachments": {},
      "cell_type": "markdown",
      "metadata": {
        "id": "Lc_VkT-qLIeL"
      },
      "source": [
        "## Load data\n",
        "Load the 2024 Statcast data and pitch clustering data from a CSV. Of course, make sure that you have the full 2024 data csv in your local directory."
      ]
    },
    {
      "cell_type": "code",
      "execution_count": 29,
      "metadata": {
        "id": "vU6sxC-KLIeL"
      },
      "outputs": [],
      "source": [
        "statcast_2024 = pd.read_csv('../2024pitches.csv')\n",
        "pitch_clusters = pd.read_csv(\"../pitch_clusters.csv\")"
      ]
    },
    {
      "attachments": {},
      "cell_type": "markdown",
      "metadata": {
        "id": "oLLFndsYLIeL"
      },
      "source": [
        "### Basic Filtering\n",
        "A lot of this filtering and clustering was done by Zach B.\n",
        "\n",
        "- Regular season games\n",
        "- Score difference < 6\n",
        "- Remove pitches with < 3 appearances"
      ]
    },
    {
      "cell_type": "code",
      "execution_count": 30,
      "metadata": {
        "id": "sn6UenajLIeL"
      },
      "outputs": [],
      "source": [
        "# Regular season games only\n",
        "statcast_df = statcast_2024[statcast_2024['game_type'] == 'R']\n",
        "\n",
        "# Score difference < 6\n",
        "statcast_df = statcast_df[abs(statcast_df['home_score_diff']) < 6]\n",
        "\n",
        "# Identify pitchers with < 3 appearances\n",
        "pitcher_appearances = statcast_df.groupby(['pitcher', 'game_date']).size()\n",
        "pitcher_games = pitcher_appearances.groupby('pitcher').size()\n",
        "pitchers_with_few_games = pitcher_games[pitcher_games < 3].index\n",
        "# Filter out those pitchers\n",
        "statcast_df = statcast_df[~statcast_df['pitcher'].isin(pitchers_with_few_games)]"
      ]
    },
    {
      "cell_type": "code",
      "execution_count": 31,
      "metadata": {
        "colab": {
          "base_uri": "https://localhost:8080/"
        },
        "id": "DDMV9xkcLIeL",
        "outputId": "9d9027d1-eaa3-4e6e-d28d-dc12f0638406"
      },
      "outputs": [
        {
          "name": "stderr",
          "output_type": "stream",
          "text": [
            "/var/folders/s0/8ys2gvm954l0zln605l0tpwr0000gn/T/ipykernel_31162/4027873161.py:2: FutureWarning: Downcasting behavior in `replace` is deprecated and will be removed in a future version. To retain the old behavior, explicitly call `result.infer_objects(copy=False)`. To opt-in to the future behavior, set `pd.set_option('future.no_silent_downcasting', True)`\n",
            "  statcast_df['stand'] = statcast_df['stand'].replace({'L': 0, 'R': 1})\n",
            "/var/folders/s0/8ys2gvm954l0zln605l0tpwr0000gn/T/ipykernel_31162/4027873161.py:3: FutureWarning: Downcasting behavior in `replace` is deprecated and will be removed in a future version. To retain the old behavior, explicitly call `result.infer_objects(copy=False)`. To opt-in to the future behavior, set `pd.set_option('future.no_silent_downcasting', True)`\n",
            "  statcast_df['p_throws'] = statcast_df['p_throws'].replace({'L': 0, 'R': 1})\n"
          ]
        }
      ],
      "source": [
        "# Binary encoding (batter and pitcher handedness)\n",
        "statcast_df['stand'] = statcast_df['stand'].replace({'L': 0, 'R': 1})\n",
        "statcast_df['p_throws'] = statcast_df['p_throws'].replace({'L': 0, 'R': 1})"
      ]
    },
    {
      "cell_type": "code",
      "execution_count": 32,
      "metadata": {
        "id": "ldLzGct3LIeM"
      },
      "outputs": [],
      "source": [
        "# Grab first set of columns of interest and filter\n",
        "columns = [\n",
        "    \"pitch_type\", \"release_speed\", \"release_pos_x\", \"release_pos_z\", \"batter\", \"pitcher\", \"events\", \"description\", \"zone\", \"des\",\n",
        "    \"game_type\", \"stand\", \"p_throws\", \"type\", \"balls\", \"strikes\", \"pfx_x\", \"pfx_z\", \"plate_x\", \"plate_z\", \"on_3b\", \"on_2b\", \"on_1b\",\n",
        "    \"hc_x\", \"hc_y\", \"sv_id\", \"vx0\", \"vy0\", \"vz0\", \"ax\", \"ay\", \"az\", \"sz_top\", \"sz_bot\", \"hit_distance_sc\", \"launch_speed\",\n",
        "    \"launch_angle\", \"effective_speed\", \"release_spin_rate\", \"release_extension\", \"game_pk\", \"release_pos_y\",\n",
        "    \"estimated_woba_using_speedangle\", \"launch_speed_angle\", \"at_bat_number\", \"pitch_number\", \"pitch_name\", \"home_score\",\n",
        "    \"away_score\", \"spin_axis\", \"delta_home_win_exp\", \"delta_run_exp\", \"bat_speed\", \"swing_length\",\n",
        "    \"estimated_slg_using_speedangle\", \"delta_pitcher_run_exp\", \"bat_win_exp\", \"n_thruorder_pitcher\",\n",
        "    \"n_priorpa_thisgame_player_at_bat\", \"arm_angle\",\n",
        "    'game_date', 'home_team']\n",
        "\n",
        "statcast_df = statcast_df[columns]"
      ]
    },
    {
      "attachments": {},
      "cell_type": "markdown",
      "metadata": {
        "id": "J2fnpEWcLIeM"
      },
      "source": [
        "### Pitch Clustering"
      ]
    },
    {
      "cell_type": "code",
      "execution_count": 33,
      "metadata": {
        "id": "j0HJ-1JmLIeM"
      },
      "outputs": [],
      "source": [
        "# Add pitch cluster data\n",
        "pitch_clusters_long = pitch_clusters.melt(id_vars=['pitcher'], var_name='pitch_type', value_name='cluster_label')\n",
        "pitch_clusters_long = pitch_clusters_long[pitch_clusters_long['cluster_label'] != -1]\n",
        "pitch_data = statcast_df.merge(pitch_clusters_long, on=['pitcher', 'pitch_type'], how='left')"
      ]
    },
    {
      "cell_type": "code",
      "execution_count": 34,
      "metadata": {
        "colab": {
          "base_uri": "https://localhost:8080/"
        },
        "id": "MiA6RF_1LIeM",
        "outputId": "84dbadab-556f-4142-a9a0-a845c61f2c13"
      },
      "outputs": [
        {
          "name": "stdout",
          "output_type": "stream",
          "text": [
            "Number of pitches: 641074\n"
          ]
        }
      ],
      "source": [
        "# Add zone data\n",
        "x_bins = np.linspace(-2, 2, num=3)  #Binning plate_x from -2 to 2 into 4 bins\n",
        "z_bins = np.linspace(0, 4, num=3)   #Binning plate_z from 0 to 4 into 4 bins\n",
        "\n",
        "# Assign pitches to zones based on plate_x and plate_z\n",
        "pitch_data['zone_x'] = np.digitize(pitch_data['plate_x'], bins=x_bins, right=False)\n",
        "pitch_data['zone_z'] = np.digitize(pitch_data['plate_z'], bins=z_bins, right=False)\n",
        "\n",
        "#single zone identifier\n",
        "pitch_data['zone'] = pitch_data['zone_x'].astype(str) + '-' + pitch_data['zone_z'].astype(str)\n",
        "zone_xwoba = pitch_data.groupby(['batter', 'pitch_type', 'zone'])['estimated_woba_using_speedangle'].mean().reset_index()\n",
        "\n",
        "pitch_data = pitch_data.merge(zone_xwoba, on=['batter', 'pitch_type', 'zone'], suffixes=('', '_zone_avg'))\n",
        "print(\"Number of pitches:\", pitch_data.shape[0])"
      ]
    },
    {
      "attachments": {},
      "cell_type": "markdown",
      "metadata": {
        "id": "OidFY7dGLIeM"
      },
      "source": [
        "### NA removal\n",
        "\n",
        "Removing rows and at-bats where pitch_type, release_speed, spin_axis, release_extension, and effective_speed have NA values. I made sure to remove entire at-bat sequences."
      ]
    },
    {
      "cell_type": "code",
      "execution_count": 35,
      "metadata": {
        "id": "64lZqRmCJgVF"
      },
      "outputs": [],
      "source": [
        "# Filter down to just the relevant columns (features + target)\n",
        "cols = ['pitch_type', 'release_speed', 'release_pos_x', 'release_pos_z', 'pfx_x', 'pfx_z', 'plate_x', 'plate_z', 'spin_axis',\n",
        "            'effective_speed', 'release_extension', 'estimated_woba_using_speedangle_zone_avg', 'cluster_label', 'n_thruorder_pitcher',\n",
        "            'game_date', 'at_bat_number', 'home_team', 'estimated_woba_using_speedangle', 'description', 'launch_angle']\n",
        "\n",
        "pitch_data_filtered = pitch_data[cols]"
      ]
    },
    {
      "cell_type": "code",
      "execution_count": 36,
      "metadata": {
        "colab": {
          "base_uri": "https://localhost:8080/"
        },
        "id": "RJ6uL-LXLIeM",
        "outputId": "bf529fd7-4a99-4882-8e6b-2eb1849592e4"
      },
      "outputs": [
        {
          "name": "stdout",
          "output_type": "stream",
          "text": [
            "Number of pitches: 485905\n"
          ]
        }
      ],
      "source": [
        "# Get indices of na values for select columns\n",
        "nas = pitch_data_filtered[pitch_data_filtered[['pitch_type', 'release_speed', 'spin_axis', 'release_extension',\n",
        "                             'effective_speed', 'cluster_label', 'estimated_woba_using_speedangle_zone_avg']].isna().any(axis=1)].index\n",
        "\n",
        "# Clean dataset of these na values. This is the longest step.\n",
        "pitch_data_cleaned_filtered = delete_unique_at_bats(pitch_data_filtered, nas)\n",
        "\n",
        "print(\"Number of pitches:\", pitch_data_cleaned_filtered.shape[0])"
      ]
    },
    {
      "attachments": {},
      "cell_type": "markdown",
      "metadata": {
        "id": "OSPUDoXALIeM"
      },
      "source": [
        "### Group into unique at bats\n",
        "Group pitches into a dataframe of unique at-bats. Grouped by gate date, at bat number, and home team"
      ]
    },
    {
      "cell_type": "code",
      "execution_count": 37,
      "metadata": {
        "colab": {
          "base_uri": "https://localhost:8080/",
          "height": 475
        },
        "id": "QQWfPfGPLIeM",
        "outputId": "91ae25e7-20f4-4316-97c0-3e7446d2291d"
      },
      "outputs": [
        {
          "data": {
            "text/html": [
              "<div>\n",
              "<style scoped>\n",
              "    .dataframe tbody tr th:only-of-type {\n",
              "        vertical-align: middle;\n",
              "    }\n",
              "\n",
              "    .dataframe tbody tr th {\n",
              "        vertical-align: top;\n",
              "    }\n",
              "\n",
              "    .dataframe thead th {\n",
              "        text-align: right;\n",
              "    }\n",
              "</style>\n",
              "<table border=\"1\" class=\"dataframe\">\n",
              "  <thead>\n",
              "    <tr style=\"text-align: right;\">\n",
              "      <th></th>\n",
              "      <th></th>\n",
              "      <th></th>\n",
              "      <th>pitch_type</th>\n",
              "      <th>release_speed</th>\n",
              "      <th>release_pos_x</th>\n",
              "      <th>release_pos_z</th>\n",
              "      <th>pfx_x</th>\n",
              "      <th>pfx_z</th>\n",
              "      <th>plate_x</th>\n",
              "      <th>plate_z</th>\n",
              "      <th>spin_axis</th>\n",
              "      <th>effective_speed</th>\n",
              "      <th>release_extension</th>\n",
              "      <th>estimated_woba_using_speedangle_zone_avg</th>\n",
              "      <th>cluster_label</th>\n",
              "      <th>n_thruorder_pitcher</th>\n",
              "      <th>estimated_woba_using_speedangle</th>\n",
              "      <th>description</th>\n",
              "      <th>launch_angle</th>\n",
              "    </tr>\n",
              "    <tr>\n",
              "      <th>game_date</th>\n",
              "      <th>at_bat_number</th>\n",
              "      <th>home_team</th>\n",
              "      <th></th>\n",
              "      <th></th>\n",
              "      <th></th>\n",
              "      <th></th>\n",
              "      <th></th>\n",
              "      <th></th>\n",
              "      <th></th>\n",
              "      <th></th>\n",
              "      <th></th>\n",
              "      <th></th>\n",
              "      <th></th>\n",
              "      <th></th>\n",
              "      <th></th>\n",
              "      <th></th>\n",
              "      <th></th>\n",
              "      <th></th>\n",
              "      <th></th>\n",
              "    </tr>\n",
              "  </thead>\n",
              "  <tbody>\n",
              "    <tr>\n",
              "      <th rowspan=\"5\" valign=\"top\">2024-03-20</th>\n",
              "      <th>2</th>\n",
              "      <th>SD</th>\n",
              "      <td>FS</td>\n",
              "      <td>91.1</td>\n",
              "      <td>-2.05</td>\n",
              "      <td>5.58</td>\n",
              "      <td>-1.33</td>\n",
              "      <td>0.22</td>\n",
              "      <td>-0.80</td>\n",
              "      <td>2.82</td>\n",
              "      <td>264.0</td>\n",
              "      <td>90.1</td>\n",
              "      <td>5.8</td>\n",
              "      <td>0.590800</td>\n",
              "      <td>0.0</td>\n",
              "      <td>1</td>\n",
              "      <td>0.059</td>\n",
              "      <td>hit_into_play</td>\n",
              "      <td>-13.0</td>\n",
              "    </tr>\n",
              "    <tr>\n",
              "      <th>3</th>\n",
              "      <th>SD</th>\n",
              "      <td>SI</td>\n",
              "      <td>95.4</td>\n",
              "      <td>-2.11</td>\n",
              "      <td>5.61</td>\n",
              "      <td>-1.51</td>\n",
              "      <td>0.56</td>\n",
              "      <td>0.33</td>\n",
              "      <td>2.22</td>\n",
              "      <td>253.0</td>\n",
              "      <td>94.1</td>\n",
              "      <td>6.0</td>\n",
              "      <td>0.259087</td>\n",
              "      <td>1.0</td>\n",
              "      <td>1</td>\n",
              "      <td>0.000</td>\n",
              "      <td>called_strike</td>\n",
              "      <td>NaN</td>\n",
              "    </tr>\n",
              "    <tr>\n",
              "      <th>4</th>\n",
              "      <th>SD</th>\n",
              "      <td>FF</td>\n",
              "      <td>94.5</td>\n",
              "      <td>-1.91</td>\n",
              "      <td>5.67</td>\n",
              "      <td>-0.35</td>\n",
              "      <td>1.62</td>\n",
              "      <td>-0.07</td>\n",
              "      <td>2.37</td>\n",
              "      <td>193.0</td>\n",
              "      <td>93.4</td>\n",
              "      <td>6.2</td>\n",
              "      <td>0.334046</td>\n",
              "      <td>1.0</td>\n",
              "      <td>1</td>\n",
              "      <td>0.034</td>\n",
              "      <td>hit_into_play</td>\n",
              "      <td>33.0</td>\n",
              "    </tr>\n",
              "    <tr>\n",
              "      <th>6</th>\n",
              "      <th>SD</th>\n",
              "      <td>FF</td>\n",
              "      <td>96.6</td>\n",
              "      <td>-1.69</td>\n",
              "      <td>6.17</td>\n",
              "      <td>-0.02</td>\n",
              "      <td>1.30</td>\n",
              "      <td>-0.03</td>\n",
              "      <td>3.69</td>\n",
              "      <td>181.0</td>\n",
              "      <td>98.0</td>\n",
              "      <td>7.4</td>\n",
              "      <td>0.504430</td>\n",
              "      <td>1.0</td>\n",
              "      <td>1</td>\n",
              "      <td>0.092</td>\n",
              "      <td>hit_into_play</td>\n",
              "      <td>-31.0</td>\n",
              "    </tr>\n",
              "    <tr>\n",
              "      <th>10</th>\n",
              "      <th>SD</th>\n",
              "      <td>FF</td>\n",
              "      <td>94.0</td>\n",
              "      <td>-2.11</td>\n",
              "      <td>5.72</td>\n",
              "      <td>-0.47</td>\n",
              "      <td>1.42</td>\n",
              "      <td>0.04</td>\n",
              "      <td>3.46</td>\n",
              "      <td>200.0</td>\n",
              "      <td>92.5</td>\n",
              "      <td>5.9</td>\n",
              "      <td>0.117014</td>\n",
              "      <td>1.0</td>\n",
              "      <td>1</td>\n",
              "      <td>0.007</td>\n",
              "      <td>hit_into_play</td>\n",
              "      <td>53.0</td>\n",
              "    </tr>\n",
              "    <tr>\n",
              "      <th>...</th>\n",
              "      <th>...</th>\n",
              "      <th>...</th>\n",
              "      <td>...</td>\n",
              "      <td>...</td>\n",
              "      <td>...</td>\n",
              "      <td>...</td>\n",
              "      <td>...</td>\n",
              "      <td>...</td>\n",
              "      <td>...</td>\n",
              "      <td>...</td>\n",
              "      <td>...</td>\n",
              "      <td>...</td>\n",
              "      <td>...</td>\n",
              "      <td>...</td>\n",
              "      <td>...</td>\n",
              "      <td>...</td>\n",
              "      <td>...</td>\n",
              "      <td>...</td>\n",
              "      <td>...</td>\n",
              "    </tr>\n",
              "    <tr>\n",
              "      <th rowspan=\"5\" valign=\"top\">2024-09-30</th>\n",
              "      <th>76</th>\n",
              "      <th>ATL</th>\n",
              "      <td>CU</td>\n",
              "      <td>86.4</td>\n",
              "      <td>-2.31</td>\n",
              "      <td>6.04</td>\n",
              "      <td>0.84</td>\n",
              "      <td>-0.19</td>\n",
              "      <td>0.15</td>\n",
              "      <td>1.72</td>\n",
              "      <td>36.0</td>\n",
              "      <td>86.2</td>\n",
              "      <td>5.9</td>\n",
              "      <td>0.423954</td>\n",
              "      <td>2.0</td>\n",
              "      <td>1</td>\n",
              "      <td>1.621</td>\n",
              "      <td>hit_into_play</td>\n",
              "      <td>35.0</td>\n",
              "    </tr>\n",
              "    <tr>\n",
              "      <th>77</th>\n",
              "      <th>ATL</th>\n",
              "      <td>FF</td>\n",
              "      <td>95.2</td>\n",
              "      <td>-2.12</td>\n",
              "      <td>6.13</td>\n",
              "      <td>-0.94</td>\n",
              "      <td>1.21</td>\n",
              "      <td>0.20</td>\n",
              "      <td>3.55</td>\n",
              "      <td>222.0</td>\n",
              "      <td>94.9</td>\n",
              "      <td>6.0</td>\n",
              "      <td>0.254071</td>\n",
              "      <td>1.0</td>\n",
              "      <td>1</td>\n",
              "      <td>0.063</td>\n",
              "      <td>hit_into_play</td>\n",
              "      <td>-25.0</td>\n",
              "    </tr>\n",
              "    <tr>\n",
              "      <th>79</th>\n",
              "      <th>ATL</th>\n",
              "      <td>FF</td>\n",
              "      <td>94.2</td>\n",
              "      <td>-2.16</td>\n",
              "      <td>4.93</td>\n",
              "      <td>-1.11</td>\n",
              "      <td>1.20</td>\n",
              "      <td>0.84</td>\n",
              "      <td>2.93</td>\n",
              "      <td>233.0</td>\n",
              "      <td>96.5</td>\n",
              "      <td>7.5</td>\n",
              "      <td>0.335208</td>\n",
              "      <td>2.0</td>\n",
              "      <td>1</td>\n",
              "      <td>0.039</td>\n",
              "      <td>hit_into_play</td>\n",
              "      <td>58.0</td>\n",
              "    </tr>\n",
              "    <tr>\n",
              "      <th>81</th>\n",
              "      <th>ATL</th>\n",
              "      <td>SL</td>\n",
              "      <td>91.0</td>\n",
              "      <td>-2.00</td>\n",
              "      <td>5.21</td>\n",
              "      <td>0.26</td>\n",
              "      <td>0.62</td>\n",
              "      <td>1.25</td>\n",
              "      <td>2.22</td>\n",
              "      <td>204.0</td>\n",
              "      <td>93.2</td>\n",
              "      <td>7.4</td>\n",
              "      <td>0.158533</td>\n",
              "      <td>1.0</td>\n",
              "      <td>1</td>\n",
              "      <td>0.000</td>\n",
              "      <td>swinging_strike</td>\n",
              "      <td>-23.0</td>\n",
              "    </tr>\n",
              "    <tr>\n",
              "      <th>82</th>\n",
              "      <th>ATL</th>\n",
              "      <td>FF</td>\n",
              "      <td>97.4</td>\n",
              "      <td>-2.10</td>\n",
              "      <td>4.88</td>\n",
              "      <td>-0.96</td>\n",
              "      <td>0.99</td>\n",
              "      <td>0.67</td>\n",
              "      <td>3.00</td>\n",
              "      <td>232.0</td>\n",
              "      <td>99.9</td>\n",
              "      <td>7.6</td>\n",
              "      <td>0.338163</td>\n",
              "      <td>2.0</td>\n",
              "      <td>1</td>\n",
              "      <td>0.052</td>\n",
              "      <td>hit_into_play</td>\n",
              "      <td>-30.0</td>\n",
              "    </tr>\n",
              "  </tbody>\n",
              "</table>\n",
              "<p>132676 rows × 17 columns</p>\n",
              "</div>"
            ],
            "text/plain": [
              "                                   pitch_type  release_speed  release_pos_x  \\\n",
              "game_date  at_bat_number home_team                                            \n",
              "2024-03-20 2             SD                FS           91.1          -2.05   \n",
              "           3             SD                SI           95.4          -2.11   \n",
              "           4             SD                FF           94.5          -1.91   \n",
              "           6             SD                FF           96.6          -1.69   \n",
              "           10            SD                FF           94.0          -2.11   \n",
              "...                                       ...            ...            ...   \n",
              "2024-09-30 76            ATL               CU           86.4          -2.31   \n",
              "           77            ATL               FF           95.2          -2.12   \n",
              "           79            ATL               FF           94.2          -2.16   \n",
              "           81            ATL               SL           91.0          -2.00   \n",
              "           82            ATL               FF           97.4          -2.10   \n",
              "\n",
              "                                    release_pos_z  pfx_x  pfx_z  plate_x  \\\n",
              "game_date  at_bat_number home_team                                         \n",
              "2024-03-20 2             SD                  5.58  -1.33   0.22    -0.80   \n",
              "           3             SD                  5.61  -1.51   0.56     0.33   \n",
              "           4             SD                  5.67  -0.35   1.62    -0.07   \n",
              "           6             SD                  6.17  -0.02   1.30    -0.03   \n",
              "           10            SD                  5.72  -0.47   1.42     0.04   \n",
              "...                                           ...    ...    ...      ...   \n",
              "2024-09-30 76            ATL                 6.04   0.84  -0.19     0.15   \n",
              "           77            ATL                 6.13  -0.94   1.21     0.20   \n",
              "           79            ATL                 4.93  -1.11   1.20     0.84   \n",
              "           81            ATL                 5.21   0.26   0.62     1.25   \n",
              "           82            ATL                 4.88  -0.96   0.99     0.67   \n",
              "\n",
              "                                    plate_z  spin_axis  effective_speed  \\\n",
              "game_date  at_bat_number home_team                                        \n",
              "2024-03-20 2             SD            2.82      264.0             90.1   \n",
              "           3             SD            2.22      253.0             94.1   \n",
              "           4             SD            2.37      193.0             93.4   \n",
              "           6             SD            3.69      181.0             98.0   \n",
              "           10            SD            3.46      200.0             92.5   \n",
              "...                                     ...        ...              ...   \n",
              "2024-09-30 76            ATL           1.72       36.0             86.2   \n",
              "           77            ATL           3.55      222.0             94.9   \n",
              "           79            ATL           2.93      233.0             96.5   \n",
              "           81            ATL           2.22      204.0             93.2   \n",
              "           82            ATL           3.00      232.0             99.9   \n",
              "\n",
              "                                    release_extension  \\\n",
              "game_date  at_bat_number home_team                      \n",
              "2024-03-20 2             SD                       5.8   \n",
              "           3             SD                       6.0   \n",
              "           4             SD                       6.2   \n",
              "           6             SD                       7.4   \n",
              "           10            SD                       5.9   \n",
              "...                                               ...   \n",
              "2024-09-30 76            ATL                      5.9   \n",
              "           77            ATL                      6.0   \n",
              "           79            ATL                      7.5   \n",
              "           81            ATL                      7.4   \n",
              "           82            ATL                      7.6   \n",
              "\n",
              "                                    estimated_woba_using_speedangle_zone_avg  \\\n",
              "game_date  at_bat_number home_team                                             \n",
              "2024-03-20 2             SD                                         0.590800   \n",
              "           3             SD                                         0.259087   \n",
              "           4             SD                                         0.334046   \n",
              "           6             SD                                         0.504430   \n",
              "           10            SD                                         0.117014   \n",
              "...                                                                      ...   \n",
              "2024-09-30 76            ATL                                        0.423954   \n",
              "           77            ATL                                        0.254071   \n",
              "           79            ATL                                        0.335208   \n",
              "           81            ATL                                        0.158533   \n",
              "           82            ATL                                        0.338163   \n",
              "\n",
              "                                    cluster_label  n_thruorder_pitcher  \\\n",
              "game_date  at_bat_number home_team                                       \n",
              "2024-03-20 2             SD                   0.0                    1   \n",
              "           3             SD                   1.0                    1   \n",
              "           4             SD                   1.0                    1   \n",
              "           6             SD                   1.0                    1   \n",
              "           10            SD                   1.0                    1   \n",
              "...                                           ...                  ...   \n",
              "2024-09-30 76            ATL                  2.0                    1   \n",
              "           77            ATL                  1.0                    1   \n",
              "           79            ATL                  2.0                    1   \n",
              "           81            ATL                  1.0                    1   \n",
              "           82            ATL                  2.0                    1   \n",
              "\n",
              "                                    estimated_woba_using_speedangle  \\\n",
              "game_date  at_bat_number home_team                                    \n",
              "2024-03-20 2             SD                                   0.059   \n",
              "           3             SD                                   0.000   \n",
              "           4             SD                                   0.034   \n",
              "           6             SD                                   0.092   \n",
              "           10            SD                                   0.007   \n",
              "...                                                             ...   \n",
              "2024-09-30 76            ATL                                  1.621   \n",
              "           77            ATL                                  0.063   \n",
              "           79            ATL                                  0.039   \n",
              "           81            ATL                                  0.000   \n",
              "           82            ATL                                  0.052   \n",
              "\n",
              "                                        description  launch_angle  \n",
              "game_date  at_bat_number home_team                                 \n",
              "2024-03-20 2             SD           hit_into_play         -13.0  \n",
              "           3             SD           called_strike           NaN  \n",
              "           4             SD           hit_into_play          33.0  \n",
              "           6             SD           hit_into_play         -31.0  \n",
              "           10            SD           hit_into_play          53.0  \n",
              "...                                             ...           ...  \n",
              "2024-09-30 76            ATL          hit_into_play          35.0  \n",
              "           77            ATL          hit_into_play         -25.0  \n",
              "           79            ATL          hit_into_play          58.0  \n",
              "           81            ATL        swinging_strike         -23.0  \n",
              "           82            ATL          hit_into_play         -30.0  \n",
              "\n",
              "[132676 rows x 17 columns]"
            ]
          },
          "execution_count": 37,
          "metadata": {},
          "output_type": "execute_result"
        }
      ],
      "source": [
        "# Group by the specified columns\n",
        "grouped = pitch_data_cleaned_filtered.groupby(['game_date', 'at_bat_number', 'home_team'])\n",
        "# First row in each pitch frame is the last pitch in the sequence - note that there's a value for wOBA\n",
        "grouped.first()"
      ]
    },
    {
      "attachments": {},
      "cell_type": "markdown",
      "metadata": {
        "id": "iFv94fgkLIeM"
      },
      "source": [
        "Remove groups that don't have any rows with a value for estimated woba using speedangle or a value of 'hit_into_play' for 'description'. Basically, if there's any at-bats where a ball was not hit into play."
      ]
    },
    {
      "cell_type": "code",
      "execution_count": 38,
      "metadata": {
        "id": "VpzgMvDELIeN"
      },
      "outputs": [],
      "source": [
        "# Removing groups where none of the rows have a estimated woba using speedangle\n",
        "filtered_grouped = grouped.filter(lambda group: group['estimated_woba_using_speedangle'].notna().any())\n",
        "grouped = filtered_grouped.groupby(['game_date', 'at_bat_number', 'home_team'])\n",
        "\n",
        "# Removing groups where none of the rows have 'hit_into_play' in 'description' column\n",
        "filtered_grouped = grouped.filter(lambda group: (group['description'] == 'hit_into_play').any())\n",
        "grouped = filtered_grouped.groupby(['game_date', 'at_bat_number', 'home_team'])"
      ]
    },
    {
      "attachments": {},
      "cell_type": "markdown",
      "metadata": {
        "id": "F7sEG0ZRLIeN"
      },
      "source": [
        "Notice that all of the below (last pitch in sequence) now have a description of 'hit_into_play'."
      ]
    },
    {
      "cell_type": "code",
      "execution_count": 39,
      "metadata": {
        "colab": {
          "base_uri": "https://localhost:8080/",
          "height": 490
        },
        "id": "AU1JaXnJLIeN",
        "outputId": "602589e9-6f1b-439b-c77b-abdbcca5a9df"
      },
      "outputs": [
        {
          "data": {
            "text/plain": [
              "game_date   at_bat_number  home_team\n",
              "2024-03-20  2              SD           hit_into_play\n",
              "            4              SD           hit_into_play\n",
              "            6              SD           hit_into_play\n",
              "            10             SD           hit_into_play\n",
              "            11             SD           hit_into_play\n",
              "                                            ...      \n",
              "2024-09-30  75             ATL          hit_into_play\n",
              "            76             ATL          hit_into_play\n",
              "            77             ATL          hit_into_play\n",
              "            79             ATL          hit_into_play\n",
              "            82             ATL          hit_into_play\n",
              "Name: description, Length: 93419, dtype: object"
            ]
          },
          "execution_count": 39,
          "metadata": {},
          "output_type": "execute_result"
        }
      ],
      "source": [
        "grouped.first()['description']"
      ]
    },
    {
      "attachments": {},
      "cell_type": "markdown",
      "metadata": {},
      "source": [
        "### Sequence clipping\n",
        "\n",
        "I want to make mimize one or two very long sequences causing us to increase the size of our time series dataframe dramatically. So, will clip the top 1% of length outliers (which at time of writing means clipping any time series with more than 8 pitches)"
      ]
    },
    {
      "cell_type": "code",
      "execution_count": 40,
      "metadata": {
        "id": "N_yoFrCvRHjk"
      },
      "outputs": [
        {
          "name": "stdout",
          "output_type": "stream",
          "text": [
            "Include seqeunces with less than 9 pitches.\n"
          ]
        }
      ],
      "source": [
        "# Figure out how many pitches each at bat has\n",
        "sizes = grouped.size().values\n",
        "max_pitches = np.quantile(sizes, 0.99)\n",
        "print(f\"Include seqeunces with less than {int(max_pitches) + 1} pitches.\")\n",
        "# Drop groups with these\n",
        "filtered_grouped = grouped.filter(lambda x: len(x) <= max_pitches)\n",
        "grouped = filtered_grouped.groupby(['game_date', 'at_bat_number', 'home_team'])"
      ]
    },
    {
      "cell_type": "code",
      "execution_count": 41,
      "metadata": {
        "colab": {
          "base_uri": "https://localhost:8080/",
          "height": 475
        },
        "id": "VQFzDgylRJsW",
        "outputId": "f7500172-1506-4890-9432-e06923156ef7"
      },
      "outputs": [
        {
          "name": "stdout",
          "output_type": "stream",
          "text": [
            "Number of unique pitch sequences:  92526\n"
          ]
        }
      ],
      "source": [
        "print(\"Number of unique pitch sequences: \", len(grouped))"
      ]
    },
    {
      "attachments": {},
      "cell_type": "markdown",
      "metadata": {
        "id": "zJ_AppIyLIeN"
      },
      "source": [
        "### Finalize predictors and targets"
      ]
    },
    {
      "cell_type": "code",
      "execution_count": 42,
      "metadata": {
        "id": "r7cT0NAHLIeN"
      },
      "outputs": [],
      "source": [
        "# Determine variables of interest\n",
        "features = ['release_speed', 'release_pos_x', 'release_pos_z', 'pfx_x', 'pfx_z', 'plate_x', 'plate_z', 'spin_axis',\n",
        "            'release_extension', 'estimated_woba_using_speedangle_zone_avg',\n",
        "            'cluster_label', 'n_thruorder_pitcher']\n",
        "target = 'estimated_woba_using_speedangle'"
      ]
    },
    {
      "cell_type": "code",
      "execution_count": 43,
      "metadata": {
        "id": "F8lUaGp1LIeN"
      },
      "outputs": [],
      "source": [
        "# Get last pitches in sequence (first in series) and convert to numpy array. These contain the wOBA values\n",
        "ys = grouped.first()[target].to_numpy(dtype='float32')"
      ]
    },
    {
      "cell_type": "code",
      "execution_count": 44,
      "metadata": {
        "id": "AHkJ_fQMLIeN"
      },
      "outputs": [],
      "source": [
        "# Filter variables down\n",
        "grouped_features = grouped[features]\n",
        "# Get features into one array\n",
        "input_values = np.array(np.array([g[1].to_numpy(dtype='float32') for g in grouped_features], dtype=\"object\"), dtype=\"object\")\n",
        "# Scale each\n",
        "n_variables = len(features)"
      ]
    },
    {
      "cell_type": "code",
      "execution_count": 45,
      "metadata": {
        "colab": {
          "base_uri": "https://localhost:8080/"
        },
        "id": "SeRLZbCTLIeN",
        "outputId": "68f94ea6-a4f2-4c1d-a970-3256fdbc3f6c"
      },
      "outputs": [
        {
          "name": "stdout",
          "output_type": "stream",
          "text": [
            "Number of pitch sequences: 92526\n",
            "Number of variables: 12\n"
          ]
        }
      ],
      "source": [
        "print(\"Number of pitch sequences:\", ys.shape[0])\n",
        "print(\"Number of variables:\", input_values[0].shape[1])"
      ]
    },
    {
      "attachments": {},
      "cell_type": "markdown",
      "metadata": {},
      "source": [
        "### Scale variables \n",
        "Scale using zero mean scaling. Get mean, var of column across all time steps, and scale accordingly."
      ]
    },
    {
      "cell_type": "code",
      "execution_count": 46,
      "metadata": {
        "id": "DP0insV740k0"
      },
      "outputs": [
        {
          "data": {
            "text/plain": [
              "\"\\n# List to store the numpy arrays for each column within each group\\nvariables_list = [[] for _ in range(12)]\\nscalers = [(0, 1)] * 12  # [mean, var] intialized to (0, 1)\\n\\n# For each data series\\nfor series in tqdm(input_values):\\n  # For each column in that series\\n  for i in range(12):\\n    # Add values to running list\\n    variables_list[i].extend(series[:, i].flatten())\\n\\n# Determine the mean and variance of that column's array\\nfor i, series in enumerate(variables_list):\\n  series = np.array(series)\\n  mean, var = series.mean(), series.std()\\n  scalers[i] = (mean, var)\\n\""
            ]
          },
          "execution_count": 46,
          "metadata": {},
          "output_type": "execute_result"
        }
      ],
      "source": [
        "'''\n",
        "# List to store the numpy arrays for each column within each group\n",
        "variables_list = [[] for _ in range(12)]\n",
        "scalers = [(0, 1)] * 12  # [mean, var] intialized to (0, 1)\n",
        "\n",
        "# For each data series\n",
        "for series in tqdm(input_values):\n",
        "  # For each column in that series\n",
        "  for i in range(12):\n",
        "    # Add values to running list\n",
        "    variables_list[i].extend(series[:, i].flatten())\n",
        "\n",
        "# Determine the mean and variance of that column's array\n",
        "for i, series in enumerate(variables_list):\n",
        "  series = np.array(series)\n",
        "  mean, var = series.mean(), series.std()\n",
        "  scalers[i] = (mean, var)\n",
        "'''"
      ]
    },
    {
      "cell_type": "code",
      "execution_count": 47,
      "metadata": {
        "id": "5q4p_IOo2YJa"
      },
      "outputs": [
        {
          "data": {
            "text/plain": [
              "'\\n# Transform the values using these means/vars\\nfor j in range(len(scaled_input_values)):\\n  for i, scaler in enumerate(scalers):\\n    series = scaled_input_values[j]\\n    series[:, i] = (series[:, i] - scaler[0] ) / scaler[1]\\n'"
            ]
          },
          "execution_count": 47,
          "metadata": {},
          "output_type": "execute_result"
        }
      ],
      "source": [
        "\n",
        "scaled_input_values = deepcopy(input_values)\n",
        "'''\n",
        "# Transform the values using these means/vars\n",
        "for j in range(len(scaled_input_values)):\n",
        "  for i, scaler in enumerate(scalers):\n",
        "    series = scaled_input_values[j]\n",
        "    series[:, i] = (series[:, i] - scaler[0] ) / scaler[1]\n",
        "'''"
      ]
    },
    {
      "cell_type": "code",
      "execution_count": 48,
      "metadata": {
        "colab": {
          "base_uri": "https://localhost:8080/"
        },
        "id": "iQKP5QYQO1QQ",
        "outputId": "2942e144-eb68-4884-c4f5-e50fc4d4dd70"
      },
      "outputs": [
        {
          "name": "stdout",
          "output_type": "stream",
          "text": [
            "[ 9.110e+01 -2.050e+00  5.580e+00 -1.330e+00  2.200e-01 -8.000e-01\n",
            "  2.820e+00  2.640e+02  5.800e+00  5.908e-01  0.000e+00  1.000e+00]\n",
            "[ 9.110e+01 -2.050e+00  5.580e+00 -1.330e+00  2.200e-01 -8.000e-01\n",
            "  2.820e+00  2.640e+02  5.800e+00  5.908e-01  0.000e+00  1.000e+00]\n"
          ]
        }
      ],
      "source": [
        "print(scaled_input_values[0][0])\n",
        "print(input_values[0][0])"
      ]
    },
    {
      "attachments": {},
      "cell_type": "markdown",
      "metadata": {},
      "source": [
        "### Target value distribution"
      ]
    },
    {
      "cell_type": "code",
      "execution_count": 49,
      "metadata": {
        "colab": {
          "base_uri": "https://localhost:8080/",
          "height": 452
        },
        "id": "cP-kM6TXLIeP",
        "outputId": "c203dfe6-350d-44ab-a349-4bd6a73efe2f"
      },
      "outputs": [
        {
          "data": {
            "image/png": "[encoded data removed]",
            "text/plain": [
              "<Figure size 640x480 with 1 Axes>"
            ]
          },
          "metadata": {},
          "output_type": "display_data"
        }
      ],
      "source": [
        "# Plot the values\n",
        "plt.title(\"Distribution of Target Values\")\n",
        "plt.hist(ys, bins=30, color='b', edgecolor='black')\n",
        "plt.axvline(x=ys.mean(), color='r', linestyle='--', label='Target Mean')\n",
        "plt.legend()\n",
        "plt.show()"
      ]
    },
    {
      "attachments": {},
      "cell_type": "markdown",
      "metadata": {},
      "source": [
        "### Save input and target tensors for disk for future use"
      ]
    },
    {
      "cell_type": "code",
      "execution_count": null,
      "metadata": {
        "colab": {
          "base_uri": "https://localhost:8080/"
        },
        "id": "5ywN0788aTha",
        "outputId": "e8a230be-9fdc-43b3-a54a-6617f9a16963"
      },
      "outputs": [],
      "source": [
        "# Convert the list of numpy arrays to a list of tensors\n",
        "input_tensor = [tensor(series) for series in scaled_input_values]\n",
        "# Pad sequences to have consistent length across all time series - (B, max_sequence_length, variables)\n",
        "input_tensor = pad_sequence(input_tensor, batch_first=True, padding_value=0.0)\n",
        "target_vals = tensor(ys)\n",
        "\n",
        "# Example usage\n",
        "#MLP_dataset = TensorDataset(input_tensor, target_vals)\n",
        "\n",
        "# Save input and target tensors\n",
        "save(input_tensor, 'input_values.pth')  # torch.save\n",
        "save(target_vals, 'target_values.pth')  # torch.save"
      ]
    }
  ],
  "metadata": {
    "accelerator": "GPU",
    "colab": {
      "gpuType": "T4",
      "provenance": []
    },
    "kernelspec": {
      "display_name": "Python 3",
      "name": "python3"
    },
    "language_info": {
      "codemirror_mode": {
        "name": "ipython",
        "version": 3
      },
      "file_extension": ".py",
      "mimetype": "text/x-python",
      "name": "python",
      "nbconvert_exporter": "python",
      "pygments_lexer": "ipython3",
      "version": "3.13.2"
    },
    "orig_nbformat": 4
  },
  "nbformat": 4,
  "nbformat_minor": 0
}
